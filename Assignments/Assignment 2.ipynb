exi{
 "cells": [
  {
   "cell_type": "markdown",
   "metadata": {
    "id": "5sfceKexA8z8"
   },
   "source": [
    "# EE698V Assignment 2\n",
    "- Use python3\n",
    "- Submit your \"rendered\" ipynb only (zip, pdf or txt files will not be accepted), i.e., with outputs of codes (plots and printed values) visible below\n",
    "- Do not change the return variables, as the evaluation is done by test cases based on the variables specified. Only add your code at \"### WRITE YOUR CODE HERE\"\n",
    "- Use only numpy library, no other package allowed\n",
    "- We have provided a function to test your code but please note that we will be using different test cases for evaluating your assignment.\n",
    "- If you are using your mobile phone, you can use colab.research.google.com for coding"
   ]
  },
  {
   "cell_type": "markdown",
   "metadata": {
    "id": "OFgcrij7KBO-"
   },
   "source": [
    "# Function Approximation with a Linear Model\n",
    "$y_d=f(x)=\\sin x$ <br />\n",
    "Approximate this function with a linear function of the form <br />\n",
    "$y = w_0 + w_1 x + w_2 x^2$ <br />\n",
    "in the range $x\\in(0,2\\pi)$"
   ]
  },
  {
   "cell_type": "code",
   "execution_count": 1,
   "metadata": {
    "id": "dm8OIbUyKBO_"
   },
   "outputs": [],
   "source": [
    "import numpy as np\n",
    "import matplotlib.pyplot as plt"
   ]
  },
  {
   "cell_type": "markdown",
   "metadata": {
    "id": "RGWNL8AwKBPE"
   },
   "source": [
    "### Generate data"
   ]
  },
  {
   "cell_type": "code",
   "execution_count": 2,
   "metadata": {
    "id": "bHKRxfQUKBPE",
    "nbgrader": {
     "grade": false,
     "grade_id": "cell-42de5e80af6ec099",
     "locked": false,
     "schema_version": 1,
     "solution": true
    }
   },
   "outputs": [],
   "source": [
    "def fx(x):\n",
    "    '''\n",
    "    Input:\n",
    "        x: float (scalar) or np array\n",
    "    Output:\n",
    "        y: float (scalar) or np array; y=f(x)=sin(x)\n",
    "        \n",
    "    HINT: Use web search on how to take sine in numpy\n",
    "    '''\n",
    "\n",
    "    ### WRITE YOUR CODE HERE - 2 MARKS\n",
    "    y = np.sin(x)\n",
    "    return y"
   ]
  },
  {
   "cell_type": "code",
   "execution_count": 3,
   "metadata": {
    "colab": {
     "base_uri": "https://localhost:8080/",
     "height": 34
    },
    "id": "JSgutLCYKBPJ",
    "nbgrader": {
     "grade": true,
     "grade_id": "cell-f27e4f64b287cd94",
     "locked": true,
     "points": 0,
     "schema_version": 1,
     "solution": false
    },
    "outputId": "d4265eb8-aa1a-4102-d5d5-8c46accbfe9d",
    "tags": []
   },
   "outputs": [
    {
     "name": "stdout",
     "output_type": "stream",
     "text": [
      "Test passed 👍\n"
     ]
    }
   ],
   "source": [
    "'''Testing'''\n",
    "def test_fx():\n",
    "    assert fx(0)==0\n",
    "    assert np.isclose(fx(np.pi/2), 1, atol=0.001)\n",
    "    assert np.isclose(fx(np.pi/4), 0.707, atol=0.001)\n",
    "    print('Test passed', '\\U0001F44D')\n",
    "test_fx()"
   ]
  },
  {
   "cell_type": "code",
   "execution_count": 4,
   "metadata": {
    "id": "2zxh92K4KBPO",
    "nbgrader": {
     "grade": false,
     "grade_id": "cell-284fa421c7c60677",
     "locked": false,
     "schema_version": 1,
     "solution": true
    }
   },
   "outputs": [],
   "source": [
    "def generateX_fx(N):\n",
    "    '''\n",
    "    Generate N random points in the range (0,2 pi)\n",
    "    Input:\n",
    "        N: int\n",
    "    Outputs:\n",
    "        x: np vector of shape (N,)\n",
    "        y: np vector of shape (N,); y=f(x)\n",
    "    '''\n",
    "\n",
    "    ### WRITE YOUR CODE HERE - 2 MARKS\n",
    "    x = np.random.rand(N)*2*np.pi # Scaling random values from (0,1) to (0, 2pi)\n",
    "    yd = fx(x)\n",
    "    return x, yd"
   ]
  },
  {
   "cell_type": "code",
   "execution_count": 5,
   "metadata": {
    "colab": {
     "base_uri": "https://localhost:8080/",
     "height": 34
    },
    "id": "ESLAfq-lKBPQ",
    "nbgrader": {
     "grade": true,
     "grade_id": "cell-70c27081df964f24",
     "locked": true,
     "points": 0,
     "schema_version": 1,
     "solution": false
    },
    "outputId": "2b78e2fe-627b-4718-9c6e-984bd86a5c40",
    "tags": []
   },
   "outputs": [
    {
     "name": "stdout",
     "output_type": "stream",
     "text": [
      "Test passed 👍\n"
     ]
    }
   ],
   "source": [
    "'''Testing'''\n",
    "def test_generateX_fx():\n",
    "    x, yd = generateX_fx(20)\n",
    "    assert x.shape[0]==20\n",
    "    assert yd.shape[0]==20\n",
    "    print('Test passed', '\\U0001F44D')\n",
    "test_generateX_fx()"
   ]
  },
  {
   "cell_type": "markdown",
   "metadata": {
    "id": "L0ctb4rFKBPU"
   },
   "source": [
    "### Plotting"
   ]
  },
  {
   "cell_type": "code",
   "execution_count": 6,
   "metadata": {
    "colab": {
     "base_uri": "https://localhost:8080/",
     "height": 283
    },
    "id": "cOeYxkerKBPV",
    "outputId": "d6df7c27-00ec-4f3c-e116-ee5baefccf97"
   },
   "outputs": [
    {
     "data": {
      "image/png": "[encoded data removed]",
      "text/plain": [
       "<Figure size 432x288 with 1 Axes>"
      ]
     },
     "metadata": {
      "needs_background": "light"
     },
     "output_type": "display_data"
    }
   ],
   "source": [
    "def plotdata():\n",
    "    x, yd = generateX_fx(20)\n",
    "    import matplotlib.pyplot as plt\n",
    "    i = x.argsort()\n",
    "    plt.plot(x[i],yd[i])\n",
    "    plt.ylabel('f(x)')\n",
    "    plt.xlabel('x')\n",
    "plotdata()"
   ]
  },
  {
   "cell_type": "markdown",
   "metadata": {
    "id": "kH1Db8CeKBPY"
   },
   "source": [
    "## Training\n",
    "We will now define a linear model to estimate the above function, and train it with all the data"
   ]
  },
  {
   "cell_type": "markdown",
   "metadata": {
    "id": "SvY3A2OxKBPZ"
   },
   "source": [
    "### Define model\n",
    "$y = \\sum_{d=0}^D w_d x^d$, here, $D$ is the degree of the model, say D=2 <br />\n",
    "\n",
    "In matrix representation: y = Aw <br/>"
   ]
  },
  {
   "cell_type": "code",
   "execution_count": 7,
   "metadata": {
    "id": "JM6k0Ui0KBPZ",
    "nbgrader": {
     "grade": false,
     "grade_id": "cell-61478073f3568175",
     "locked": false,
     "schema_version": 1,
     "solution": true
    },
    "tags": []
   },
   "outputs": [],
   "source": [
    "def createA(x, D):\n",
    "    '''\n",
    "    Create the matrix A with degree D\n",
    "    Input:\n",
    "        x: np vector of shape (N,)\n",
    "        D: degree of the model\n",
    "    Output:\n",
    "        A: np matrix of shape (N,D+1)\n",
    "    '''\n",
    "\n",
    "    ### WRITE YOUR CODE HERE - 5 MARKS\n",
    "    A = []\n",
    "    for i in x:\n",
    "        A.append(np.array([i**n for n in range(D+1)]))\n",
    "    A = np.array(A)\n",
    "    return A"
   ]
  },
  {
   "cell_type": "code",
   "execution_count": 8,
   "metadata": {
    "colab": {
     "base_uri": "https://localhost:8080/",
     "height": 34
    },
    "id": "UM5PzgqMKBPc",
    "nbgrader": {
     "grade": true,
     "grade_id": "cell-c1a05c3a2dc0aa06",
     "locked": true,
     "points": 0,
     "schema_version": 1,
     "solution": false
    },
    "outputId": "3d0078ad-c0b8-466a-d8f8-c36104fd2caa",
    "tags": []
   },
   "outputs": [
    {
     "name": "stdout",
     "output_type": "stream",
     "text": [
      "Test passed 👍\n"
     ]
    }
   ],
   "source": [
    "'''Testing'''\n",
    "def test_createA():\n",
    "    x = np.array([1,2,3])\n",
    "    A = createA(x, 2)\n",
    "    assert A.shape==(3,3)\n",
    "    assert np.all(A[0,:]==1)\n",
    "    assert np.all(A==np.array([[1.0, 1.0, 1.0], [1.0, 2.0, 4.0], [1.0, 3.0, 9.0]]))\n",
    "    print('Test passed', '\\U0001F44D')\n",
    "test_createA()"
   ]
  },
  {
   "cell_type": "markdown",
   "metadata": {
    "id": "VfhZ3spDKBPg"
   },
   "source": [
    "### Estimate Weights\n",
    "Estimate w from yd and A. Use the solutions you learnt in the video\n",
    "- $w = (A^T A)^{-1} A^T y_d$, Least square solution, $N>D+1$\n",
    "- $w =  A^T (A A^T)^{-1} y_d$, Min norm solution, $N\\leq D+1$"
   ]
  },
  {
   "cell_type": "code",
   "execution_count": 9,
   "metadata": {
    "id": "Q6iW1wYoKBPg",
    "nbgrader": {
     "grade": false,
     "grade_id": "cell-9bdf45f987ecf410",
     "locked": false,
     "schema_version": 1,
     "solution": true
    }
   },
   "outputs": [],
   "source": [
    "def train_w(A, yd):\n",
    "    '''\n",
    "    Inputs:\n",
    "        A: np matrix of shape (N,D+1)\n",
    "        yd: np vector of shape (N,)\n",
    "    Output:\n",
    "        w: np vector of shape (D+1,)\n",
    "    '''\n",
    "\n",
    "    ### WRITE YOUR CODE HERE - 10 MARKS\n",
    "    N, D_p1 = A.shape\n",
    "    if N > D_p1:\n",
    "        w = (np.linalg.inv(A.T@A)@A.T)@yd\n",
    "    else:\n",
    "        w = (A.T@np.linalg.inv(A@A.T))@yd\n",
    "    return w"
   ]
  },
  {
   "cell_type": "code",
   "execution_count": 10,
   "metadata": {
    "colab": {
     "base_uri": "https://localhost:8080/",
     "height": 34
    },
    "id": "r6u8AqybKBPj",
    "nbgrader": {
     "grade": true,
     "grade_id": "cell-4fd1ee72464aa0d8",
     "locked": true,
     "points": 0,
     "schema_version": 1,
     "solution": false
    },
    "outputId": "68961424-ce91-4bbd-bb51-38ceb76f52b4",
    "tags": []
   },
   "outputs": [
    {
     "name": "stdout",
     "output_type": "stream",
     "text": [
      "Test passed 👍\n"
     ]
    }
   ],
   "source": [
    "'''Testing'''\n",
    "def test_train_w():\n",
    "    A = np.array([[1.0, 1.0, 1.0], [1.0, 2.0, 4.0], [1.0, 3.0, 9.0]])\n",
    "    yd = np.array([1,2,3])\n",
    "    assert np.all(np.isclose(train_w(A, yd), np.array([0,1,0]), atol=.001))\n",
    "    yd = yd*yd\n",
    "    assert np.all(np.isclose(train_w(A, yd), np.array([0,0,1]), atol=.001))\n",
    "    print('Test passed', '\\U0001F44D')\n",
    "test_train_w()"
   ]
  },
  {
   "cell_type": "markdown",
   "metadata": {
    "id": "l9_Z8L3RKBPn"
   },
   "source": [
    "### Estimate y from the model, given x"
   ]
  },
  {
   "cell_type": "code",
   "execution_count": 11,
   "metadata": {
    "id": "AIFYMCMlKBPo",
    "nbgrader": {
     "grade": false,
     "grade_id": "cell-18a403e9e2d75c54",
     "locked": false,
     "schema_version": 1,
     "solution": true
    }
   },
   "outputs": [],
   "source": [
    "def predict_y(w, x):\n",
    "    '''\n",
    "    Inputs:\n",
    "        w: np vector of shape (D+1,)\n",
    "        x: np vector of shape (N,)\n",
    "    Outputs:\n",
    "        y: np vector of shape (N,); y=Aw\n",
    "    '''\n",
    "\n",
    "    ### WRITE YOUR CODE HERE - 5 MARKS\n",
    "    D = len(w) - 1\n",
    "    A = createA(x, D)\n",
    "    y = A @ w\n",
    "    return y"
   ]
  },
  {
   "cell_type": "code",
   "execution_count": 12,
   "metadata": {
    "colab": {
     "base_uri": "https://localhost:8080/",
     "height": 34
    },
    "id": "pEaklXwZKBPs",
    "nbgrader": {
     "grade": true,
     "grade_id": "cell-66e9156fdbab1ffe",
     "locked": true,
     "points": 0,
     "schema_version": 1,
     "solution": false
    },
    "outputId": "2e4ef278-ad63-4a90-de9b-a884a847a31c",
    "tags": []
   },
   "outputs": [
    {
     "name": "stdout",
     "output_type": "stream",
     "text": [
      "Test passed 👍\n"
     ]
    }
   ],
   "source": [
    "def test_predict_y():\n",
    "    w = np.array([1,2,3])\n",
    "    x = np.array([0.2,0.5,0.6])\n",
    "    y = predict_y(w, x)\n",
    "    assert np.all(np.isclose(y, np.array([1.52, 2.75, 3.28]), atol=0.001))\n",
    "    print('Test passed', '\\U0001F44D')\n",
    "test_predict_y()"
   ]
  },
  {
   "cell_type": "markdown",
   "metadata": {
    "id": "Sqjpd9JWKBPv"
   },
   "source": [
    "### Estimate Error\n",
    "Find E as the mean squared error"
   ]
  },
  {
   "cell_type": "code",
   "execution_count": 13,
   "metadata": {
    "id": "k50lysAcKBPw",
    "nbgrader": {
     "grade": false,
     "grade_id": "cell-430f96298f1ea137",
     "locked": false,
     "schema_version": 1,
     "solution": true
    }
   },
   "outputs": [],
   "source": [
    "def compute_mse(y, yd):\n",
    "    '''\n",
    "    Inputs:\n",
    "        y: np vector of shape (N,); y=Aw\n",
    "        yd: np vector of shape (N,); yd=f(x), ie., desired or true value\n",
    "    Output:\n",
    "        mse: mean squared error\n",
    "    '''\n",
    "\n",
    "    ### WRITE YOUR CODE HERE - 5 MARKS\n",
    "    mse = np.mean((y-yd)**2)\n",
    "    return mse"
   ]
  },
  {
   "cell_type": "code",
   "execution_count": 14,
   "metadata": {
    "colab": {
     "base_uri": "https://localhost:8080/",
     "height": 34
    },
    "id": "gaGg1vCpKBPz",
    "nbgrader": {
     "grade": true,
     "grade_id": "cell-2ce30fda249b5070",
     "locked": true,
     "points": 0,
     "schema_version": 1,
     "solution": false
    },
    "outputId": "f257e361-8359-446d-9bdd-2f43c000ecdf",
    "tags": []
   },
   "outputs": [
    {
     "name": "stdout",
     "output_type": "stream",
     "text": [
      "Test passed 👍\n"
     ]
    }
   ],
   "source": [
    "'''Testing'''\n",
    "def test_compute_mse():\n",
    "    yd = np.array([1,0,1,0])\n",
    "    y = np.array([.8,.2,.8,.2])\n",
    "    assert np.isclose(compute_mse(y, yd), 0.04, atol=0.003)\n",
    "    print('Test passed', '\\U0001F44D')\n",
    "test_compute_mse()"
   ]
  },
  {
   "cell_type": "markdown",
   "metadata": {
    "id": "xBnW1s3TKBP3"
   },
   "source": [
    "### Plotting\n"
   ]
  },
  {
   "cell_type": "code",
   "execution_count": 15,
   "metadata": {
    "id": "3qO0ZHVhKBP4"
   },
   "outputs": [],
   "source": [
    "def plotModel(x, y, yd, title='',xlim=[0,7]):\n",
    "    i = x.argsort()\n",
    "    plt.figure()\n",
    "    plt.plot(x[i],y[i],'g-o')\n",
    "    plt.plot(x[i],yd[i],'r-o')\n",
    "    plt.ylabel('f(x)')\n",
    "    plt.xlabel('x')\n",
    "    plt.legend(['estimated', 'true'])\n",
    "    plt.xlim(xlim)\n",
    "    plt.title(title)"
   ]
  },
  {
   "cell_type": "markdown",
   "metadata": {
    "id": "0sr7rdZpKBP9"
   },
   "source": [
    "# EXPERIMENTS\n",
    "## Could you train it?\n",
    "Using the above functions:\n",
    "- Generate 20 training points\n",
    "- Train your linear model using x and yd\n",
    "- Predict y (using the linear model you found above) for the training data x\n",
    "- Compare y with yd to find the mean-squared error "
   ]
  },
  {
   "cell_type": "code",
   "execution_count": 16,
   "metadata": {
    "id": "c9zgtBGCKBP-",
    "nbgrader": {
     "grade": false,
     "grade_id": "cell-a8b1b747eafd040b",
     "locked": false,
     "schema_version": 1,
     "solution": true
    }
   },
   "outputs": [],
   "source": [
    "def trainModel(N, D):\n",
    "    '''\n",
    "    Inputs:\n",
    "        N: number of samples\n",
    "        D: degree of the model\n",
    "    Outputs:\n",
    "        x: np array of size (N,)\n",
    "        y: np array of size (N,)\n",
    "        yd: np array of size (N,)\n",
    "        w: np array of size (D+1,)\n",
    "        mse: scalar float\n",
    "    '''\n",
    "\n",
    "    ### WRITE YOUR CODE HERE - 5 MARKS\n",
    "    x, yd = generateX_fx(N)\n",
    "    A = createA(x, D)\n",
    "    w = train_w(A, yd)\n",
    "    y = predict_y(w, x)\n",
    "    mse = compute_mse(y, yd)\n",
    "    return x, y, yd, w, mse"
   ]
  },
  {
   "cell_type": "code",
   "execution_count": 17,
   "metadata": {
    "colab": {
     "base_uri": "https://localhost:8080/",
     "height": 69
    },
    "id": "yCPHtsgaKBQB",
    "nbgrader": {
     "grade": true,
     "grade_id": "cell-1580e85d9db3a428",
     "locked": true,
     "points": 0,
     "schema_version": 1,
     "solution": false
    },
    "outputId": "4f23ae09-de0d-4a42-bf15-f59ddbf96bab",
    "tags": []
   },
   "outputs": [
    {
     "name": "stdout",
     "output_type": "stream",
     "text": [
      "final weights are: [ 0.59521279 -0.17648587 -0.01274891]\n",
      "MSE on train data =  0.23438466746178274\n",
      "Test passed 👍\n"
     ]
    }
   ],
   "source": [
    "'''testing'''\n",
    "def test_trainModel():\n",
    "    N = 20\n",
    "    D = 2\n",
    "    x, y, yd, w, mse = trainModel(N,D)\n",
    "    assert x.shape[0]==20\n",
    "    assert w.shape[0]==D+1\n",
    "    print('final weights are:', w)\n",
    "    print('MSE on train data = ', mse)\n",
    "#     plotModel(x,y,yd)\n",
    "    print('Test passed', '\\U0001F44D')\n",
    "test_trainModel()"
   ]
  },
  {
   "cell_type": "markdown",
   "metadata": {
    "id": "MPJKssIIKBQG"
   },
   "source": [
    "## Could you test it on new (test) points?\n",
    "Using the above functions:\n",
    "- Generate 30 test points\n",
    "- Estimate y using the linear model w you found above. Do NOT train again\n",
    "- Compare y with yd to find the mean-squared error <br />"
   ]
  },
  {
   "cell_type": "code",
   "execution_count": 18,
   "metadata": {
    "id": "nnZzP7aYKBQG",
    "nbgrader": {
     "grade": false,
     "grade_id": "cell-4a89399915bf1752",
     "locked": false,
     "schema_version": 1,
     "solution": true
    },
    "scrolled": true
   },
   "outputs": [],
   "source": [
    "def testModel(Ntest, w):\n",
    "    '''\n",
    "    Inputs:\n",
    "        Ntest: number of test samples to be generated\n",
    "        w: np array of size (D+1,)\n",
    "    Outputs:\n",
    "        x: np array of size (N,)\n",
    "        y: np array of size (N,)\n",
    "        yd: np array of size (N,)\n",
    "        mse: scalar float\n",
    "    '''\n",
    "\n",
    "    ### WRITE YOUR CODE HERE - 5 MARKS\n",
    "    x, yd = generateX_fx(Ntest)\n",
    "    y = predict_y(w, x)\n",
    "    mse = compute_mse(y, yd)\n",
    "    return x, y, yd, mse"
   ]
  },
  {
   "cell_type": "code",
   "execution_count": 22,
   "metadata": {
    "colab": {
     "base_uri": "https://localhost:8080/",
     "height": 671
    },
    "id": "Gd2opBvPKBQK",
    "nbgrader": {
     "grade": true,
     "grade_id": "cell-7b7b3892f3df2282",
     "locked": true,
     "points": 0,
     "schema_version": 1,
     "solution": false
    },
    "outputId": "072119d4-e32a-493c-e863-f6b4256893f2",
    "tags": []
   },
   "outputs": [
    {
     "name": "stdout",
     "output_type": "stream",
     "text": [
      "[ 1.31978508e-02  9.82949554e-01  6.46698052e-03 -1.71813539e-01\n",
      "  5.50147450e-03  4.71144609e-03  1.49070243e-03 -5.88144820e-04\n",
      "  6.17344708e-05 -2.13242761e-06 -3.08844644e-09]\n",
      "MSE on train data =  3.0378952978060837e-05\n",
      "MSE on test data =  2.097021241263342e-05\n",
      "Test passed 👍\n"
     ]
    },
    {
     "data": {
      "image/png": "[encoded data removed]",
      "text/plain": [
       "<Figure size 432x288 with 1 Axes>"
      ]
     },
     "metadata": {
      "needs_background": "light"
     },
     "output_type": "display_data"
    },
    {
     "data": {
      "image/png": "[encoded data removed]",
      "text/plain": [
       "<Figure size 432x288 with 1 Axes>"
      ]
     },
     "metadata": {
      "needs_background": "light"
     },
     "output_type": "display_data"
    }
   ],
   "source": [
    "'''Testing'''\n",
    "def test_testModel():\n",
    "    D = 10    # TRAINING\n",
    "    N = 15\n",
    "    x, y, yd, w, mse = trainModel(N,D)\n",
    "    assert x.shape[0]==N\n",
    "    assert w.shape[0]==D+1\n",
    "    print(w)\n",
    "    print('MSE on train data = ', mse)\n",
    "    plotModel(x,y,yd, title='train data')\n",
    "    # TESTING\n",
    "    Ntest = 50                  # no. of test points\n",
    "    x, y, yd, mse = testModel(Ntest,w)\n",
    "    print('MSE on test data = ', mse)\n",
    "    plotModel(x,y,yd, title='test data')\n",
    "    print('Test passed', '\\U0001F44D')\n",
    "test_testModel()"
   ]
  },
  {
   "cell_type": "code",
   "execution_count": null,
   "metadata": {},
   "outputs": [],
   "source": []
  }
 ],
 "metadata": {
  "colab": {
   "collapsed_sections": [],
   "name": "ass.ipynb",
   "provenance": []
  },
  "kernelspec": {
   "display_name": "Python 3",
   "language": "python",
   "name": "python3"
  },
  "language_info": {
   "codemirror_mode": {
    "name": "ipython",
    "version": 3
   },
   "file_extension": ".py",
   "mimetype": "text/x-python",
   "name": "python",
   "nbconvert_exporter": "python",
   "pygments_lexer": "ipython3",
   "version": "3.8.2"
  }
 },
 "nbformat": 4,
 "nbformat_minor": 1
}
